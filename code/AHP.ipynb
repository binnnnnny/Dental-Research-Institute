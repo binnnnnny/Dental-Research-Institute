{
  "nbformat": 4,
  "nbformat_minor": 0,
  "metadata": {
    "colab": {
      "provenance": [],
      "collapsed_sections": [
        "nDCboI-UBXWq",
        "xUcDBvdsBr-S",
        "YfFJ6Y0-CjeZ",
        "euY0fj7oC0SQ"
      ]
    },
    "kernelspec": {
      "name": "python3",
      "display_name": "Python 3"
    },
    "language_info": {
      "name": "python"
    }
  },
  "cells": [
    {
      "cell_type": "code",
      "source": [
        "import pandas as pd\n",
        "from sklearn.preprocessing import MinMaxScaler"
      ],
      "metadata": {
        "id": "_9NKQh8cCOnQ"
      },
      "execution_count": null,
      "outputs": []
    },
    {
      "cell_type": "markdown",
      "source": [
        "## 병원"
      ],
      "metadata": {
        "id": "nDCboI-UBXWq"
      }
    },
    {
      "cell_type": "code",
      "execution_count": null,
      "metadata": {
        "id": "Z7oEfAB_BJCh"
      },
      "outputs": [],
      "source": [
        "data = pd.read_excel('천안아산_병원.xlsx')"
      ]
    },
    {
      "cell_type": "code",
      "source": [
        "cols = ['병상수', '의료인력수', '진료과목수', '의료기기종류', '치과의료전문의수']\n",
        "\n",
        "# 정규화\n",
        "scaler = MinMaxScaler()\n",
        "data[cols] = scaler.fit_transform(data[cols])"
      ],
      "metadata": {
        "id": "-MFADfs8Bfw3"
      },
      "execution_count": null,
      "outputs": []
    },
    {
      "cell_type": "code",
      "source": [
        "# 쌍대비교표\n",
        "pairwise_matrix = np.array([\n",
        "    [1, 1/7, 1/5, 1/6, 1/4],\n",
        "    [7, 1, 4, 5, 6],\n",
        "    [5, 1/4, 1, 3, 4],\n",
        "    [6, 1/7, 1/5, 1, 3],\n",
        "    [4, 1/5, 1/3, 1/3, 1]\n",
        "])\n",
        "row_sums = pairwise_matrix.sum(axis=1)\n",
        "\n",
        "# 가중치 벡터 계산\n",
        "weights = row_sums / row_sums.sum()"
      ],
      "metadata": {
        "id": "9UHX0CXuBiNw"
      },
      "execution_count": null,
      "outputs": []
    },
    {
      "cell_type": "markdown",
      "source": [
        "### 수요량 계산"
      ],
      "metadata": {
        "id": "f-EkV04pBijH"
      }
    },
    {
      "cell_type": "code",
      "source": [
        "data['병상수'] = data['병상수'] * weights[0]\n",
        "data['의료인력수'] = data['의료인력수'] * weights[1]\n",
        "data['진료과목수'] = data['진료과목수'] * weights[2]\n",
        "data['의료기기종류'] = data['의료기기종류'] * weights[3]\n",
        "data['치과의료전문의수'] = data['치과의료전문의수'] * weights[4]"
      ],
      "metadata": {
        "id": "I3kI-sL1BkhF"
      },
      "execution_count": null,
      "outputs": []
    },
    {
      "cell_type": "code",
      "source": [
        "df = data[['병상수', '의료인력수', '진료과목수', '의료기기종류', '치과의료전문의수']]"
      ],
      "metadata": {
        "id": "E7pw0kv5Bm88"
      },
      "execution_count": null,
      "outputs": []
    },
    {
      "cell_type": "code",
      "source": [
        "df.values.sum()"
      ],
      "metadata": {
        "id": "h7DDhSx9Boaz"
      },
      "execution_count": null,
      "outputs": []
    },
    {
      "cell_type": "markdown",
      "source": [
        "## 산업단지"
      ],
      "metadata": {
        "id": "xUcDBvdsBr-S"
      }
    },
    {
      "cell_type": "code",
      "source": [
        "ch_data = pd.read_excel('ch_data.xlsx')\n",
        "as_data = pd.read_excel('as_data.xlsx')\n",
        "as_data2 = pd.read_csv('as_data2.csv', encoding='cp949')"
      ],
      "metadata": {
        "id": "10f6l6BVBvJQ"
      },
      "execution_count": null,
      "outputs": []
    },
    {
      "cell_type": "markdown",
      "source": [
        "### 전처리"
      ],
      "metadata": {
        "id": "xqmYwtTtBw7d"
      }
    },
    {
      "cell_type": "code",
      "source": [
        "# 단지명별로 그룹화\n",
        "grouped = as_data2.groupby('단지명')\n",
        "\n",
        "# 단지명별 회사 수와 종업원 수의 총합을 계산\n",
        "grouped = grouped.agg(유지업체수=pd.NamedAgg(column='회사명', aggfunc='count'),\n",
        "                     고용인원=pd.NamedAgg(column='종업원수', aggfunc='sum'))\n",
        "\n",
        "print(grouped.shape)"
      ],
      "metadata": {
        "id": "TleGrBvWBx1r"
      },
      "execution_count": null,
      "outputs": []
    },
    {
      "cell_type": "code",
      "source": [
        "# '단지명' 인덱스를 칼럼으로 변환\n",
        "grouped.reset_index(inplace=True)\n",
        "\n",
        "# as_data2 데이터프레임과 grouped 데이터프레임을 '단지명'을 기준으로 병합\n",
        "merged_data = pd.merge(as_data, grouped, on='단지명', how='left')\n",
        "\n",
        "# NaN 값을 0으로 대체\n",
        "merged_data.fillna(0, inplace=True)\n",
        "\n",
        "print(merged_data.head(2))"
      ],
      "metadata": {
        "id": "6LwWkM1QB0hh"
      },
      "execution_count": null,
      "outputs": []
    },
    {
      "cell_type": "code",
      "source": [
        "# 칼럼 삭제\n",
        "ch_data.drop(columns=['단지유형', '위치', '조성', '분양', '지정일'], inplace=True)\n",
        "print(ch_data.columns)\n",
        "\n",
        "merged_data.drop(columns=['단지유형', '위치', '조성', '분양', '지정일'], inplace=True)\n",
        "print(merged_data.columns)"
      ],
      "metadata": {
        "id": "WIsy7PYbB1Iu"
      },
      "execution_count": null,
      "outputs": []
    },
    {
      "cell_type": "code",
      "source": [
        "cols = ['지정면적(㎡)', '주거지역', '상업지역', '공업지역', '녹지지역', '기타',\n",
        "                     '유지업체수', '고용인원']\n",
        "\n",
        "# 정규화\n",
        "scaler = MinMaxScaler()\n",
        "merged_data[cols] = scaler.fit_transform(merged_data[cols])"
      ],
      "metadata": {
        "id": "Lv7hwLC2CUle"
      },
      "execution_count": null,
      "outputs": []
    },
    {
      "cell_type": "code",
      "source": [
        "# 쌍대비교표\n",
        "pairwise_matrix = np.array([\n",
        "    [1, 6, 5, 6, 8, 4, 4, 4],\n",
        "    [1/6, 1, 4, 5, 6, 3, 3, 3],\n",
        "    [1/5, 1/4, 1, 3, 5, 2, 2, 2],\n",
        "    [1/6, 1/5, 1/5, 1, 3, 2, 2, 2],\n",
        "    [1/8, 1/6, 1/5, 1/3, 1, 2, 2, 2],\n",
        "    [1/4, 1/3, 1/2, 1/2, 1/2, 1, 1, 1],\n",
        "    [1/4, 1/3, 1/2, 1/2, 1/2, 1, 1, 1],\n",
        "    [1/4, 1/3, 1/2, 1/2, 1/2, 1, 1, 1]\n",
        "])\n",
        "\n",
        "row_sums = pairwise_matrix.sum(axis=1)\n",
        "\n",
        "# 가중치 벡터 계산\n",
        "weights = row_sums / row_sums.sum()"
      ],
      "metadata": {
        "id": "HDW2Nx_ACZjp"
      },
      "execution_count": null,
      "outputs": []
    },
    {
      "cell_type": "markdown",
      "source": [
        "### 수요량 계산"
      ],
      "metadata": {
        "id": "nM7DIF2mCbyo"
      }
    },
    {
      "cell_type": "code",
      "source": [
        "merged_data['지정면적(㎡)'] = merged_data['지정면적(㎡)'] * weights[0]\n",
        "merged_data['주거지역'] = merged_data['주거지역'] * weights[1]\n",
        "merged_data['상업지역'] = merged_data['상업지역'] * weights[2]\n",
        "merged_data['공업지역'] = merged_data['공업지역'] * weights[3]\n",
        "merged_data['녹지지역'] = merged_data['고용인원'] * weights[4]\n",
        "merged_data['기타'] = merged_data['기타'] * weights[5]\n",
        "merged_data['유지업체수'] = merged_data['유지업체수'] * weights[6]\n",
        "merged_data['고용인원'] = merged_data['고용인원'] * weights[7]"
      ],
      "metadata": {
        "id": "dIUjQH9-CcCj"
      },
      "execution_count": null,
      "outputs": []
    },
    {
      "cell_type": "code",
      "source": [
        "df = merged_data[['지정면적(㎡)', '주거지역', '상업지역', '공업지역', '녹지지역', '기타',\n",
        "                     '유지업체수', '고용인원']]"
      ],
      "metadata": {
        "id": "atESsc4JCdf8"
      },
      "execution_count": null,
      "outputs": []
    },
    {
      "cell_type": "code",
      "source": [
        "df.values.sum()"
      ],
      "metadata": {
        "id": "vQF3A5K7CeS0"
      },
      "execution_count": null,
      "outputs": []
    },
    {
      "cell_type": "markdown",
      "source": [
        "## 대학"
      ],
      "metadata": {
        "id": "YfFJ6Y0-CjeZ"
      }
    },
    {
      "cell_type": "code",
      "source": [
        "data = pd.read_excel('천안시_대학정보_최종.xlsx')"
      ],
      "metadata": {
        "id": "UktElwfXClQM"
      },
      "execution_count": null,
      "outputs": []
    },
    {
      "cell_type": "code",
      "source": [
        "# 없는 값이라 결측값으로 비워놨음\n",
        "data = data.fillna(0)"
      ],
      "metadata": {
        "id": "eLASHudTCnw2"
      },
      "execution_count": null,
      "outputs": []
    },
    {
      "cell_type": "code",
      "source": [
        "cols= ['1인당장학금', '1인당연구비', '학과 개수', '전체학생수', '교수', '논문실적',\n",
        "                     '전임교원 1인당 저 역서실적']\n",
        "\n",
        "# 정규화\n",
        "scaler = MinMaxScaler()\n",
        "data[cols] = scaler.fit_transform(data[cols])"
      ],
      "metadata": {
        "id": "3767GAavCocq"
      },
      "execution_count": null,
      "outputs": []
    },
    {
      "cell_type": "code",
      "source": [
        "# 쌍대비교표\n",
        "pairwise_matrix = np.array([\n",
        "    [1, 1/3, 1/5, 6, 8, 4, 4],\n",
        "    [3, 1, 1/3, 1/4, 1/3, 1/5, 1/9],\n",
        "    [4, 3, 1, 1/3, 1/3, 1/4, 1/5],\n",
        "    [5, 4, 3, 1, 1, 2, 1/3],\n",
        "    [4, 3, 3, 2, 1, 1/3, 1/4],\n",
        "    [6, 5, 4, 3, 3, 1, 1],\n",
        "    [7, 9, 5, 3, 4, 3, 1]\n",
        "])\n",
        "\n",
        "row_sums = pairwise_matrix.sum(axis=1)\n",
        "\n",
        "# 가중치 벡터 계산\n",
        "weights = row_sums / row_sums.sum()"
      ],
      "metadata": {
        "id": "HP2aqPSWCqrI"
      },
      "execution_count": null,
      "outputs": []
    },
    {
      "cell_type": "markdown",
      "source": [
        "### 수요량 계산"
      ],
      "metadata": {
        "id": "eQPm8yC8CuAU"
      }
    },
    {
      "cell_type": "code",
      "source": [
        "data['1인당장학금'] = data['1인당장학금'] * weights[0]\n",
        "data['1인당연구비'] = data['1인당연구비'] * weights[1]\n",
        "data['학과 개수'] = data['학과 개수'] * weights[2]\n",
        "data['전체학생수'] = data['전체학생수'] * weights[3]\n",
        "data['교수'] = data['교수'] * weights[4]\n",
        "data['논문실적'] = data['논문실적'] * weights[5]\n",
        "data['전임교원 1인당 저 역서실적'] = data['전임교원 1인당 저 역서실적'] * weights[6]"
      ],
      "metadata": {
        "id": "isMG0iVQCvE6"
      },
      "execution_count": null,
      "outputs": []
    },
    {
      "cell_type": "code",
      "source": [
        "df = data[['1인당장학금', '1인당연구비', '학과 개수', '전체학생수', '교수', '논문실적', '전임교원 1인당 저 역서실적']]"
      ],
      "metadata": {
        "id": "w9s4fORVCwWX"
      },
      "execution_count": null,
      "outputs": []
    },
    {
      "cell_type": "code",
      "source": [
        "df.values.sum()"
      ],
      "metadata": {
        "id": "sqynq_mXCxB5"
      },
      "execution_count": null,
      "outputs": []
    },
    {
      "cell_type": "markdown",
      "source": [
        "## KTX 접근성"
      ],
      "metadata": {
        "id": "euY0fj7oC0SQ"
      }
    },
    {
      "cell_type": "code",
      "source": [
        "# 데이터 불러오기\n",
        "data = pd.read_excel('data.xlsx')\n",
        "data1 = pd.read_csv('data1.csv',encoding='euc-kr')\n",
        "data2 = pd.read_csv('data2.csv',encoding='euc-kr')\n",
        "data3 = pd.read_excel('data3.xlsx')"
      ],
      "metadata": {
        "id": "WzLB3O5xC08P"
      },
      "execution_count": null,
      "outputs": []
    },
    {
      "cell_type": "markdown",
      "source": [
        "### 전처리"
      ],
      "metadata": {
        "id": "a1ePWCRCC78w"
      }
    },
    {
      "cell_type": "code",
      "source": [
        "# 천안아산역만 필터링\n",
        "ktx = data1.loc[data1['정차역'].isin(['천안아산'])]"
      ],
      "metadata": {
        "id": "CH-KwKatC4C6"
      },
      "execution_count": null,
      "outputs": []
    },
    {
      "cell_type": "code",
      "source": [
        "total_boarding = ktx['승차인원수'].sum()\n",
        "total_alighting = ktx['하차인원수'].sum()\n",
        "total_boarding, total_alighting"
      ],
      "metadata": {
        "id": "5ssUxJ8pC5-H"
      },
      "execution_count": null,
      "outputs": []
    },
    {
      "cell_type": "code",
      "source": [
        "ktx_num = data2.loc[data2['선명'].isin(['경부선', '호남선','전라선','경전선', '동해선', ])]"
      ],
      "metadata": {
        "id": "wK7iNgpnC94g"
      },
      "execution_count": null,
      "outputs": []
    },
    {
      "cell_type": "code",
      "source": [
        "# NaN 값을 0으로 채운 후 정수로 변환\n",
        "data3 = data3.applymap(lambda x: int(x) if isinstance(x, (int, float)) and not pd.isna(x) else x)"
      ],
      "metadata": {
        "id": "uK1bD2oAC-Za"
      },
      "execution_count": null,
      "outputs": []
    },
    {
      "cell_type": "code",
      "source": [
        "data3= data3.iloc[3:,:]\n",
        "\n",
        "# 열 이름 변경\n",
        "new_column_names = ['역명구분', '역명', '열3', '구분', '2023년 역별 승하차인원 현황 1월', '2월', '3월', '4월', '5월', '6월', '7월', '8월', '9월', '10월', '11월', '12월', '합계','일평균','비고']  # 변경할 열 이름 목록\n",
        "data3.columns = new_column_names\n",
        "data3 = data3.drop(columns=['역명구분', '열3','비고'], errors='ignore')"
      ],
      "metadata": {
        "id": "1uvm_ohMC-ry"
      },
      "execution_count": null,
      "outputs": []
    },
    {
      "cell_type": "code",
      "source": [
        "# 천안역, 아산역, 천안아산역만 필터링\n",
        "수송실적 = data3.loc[data3['역명'].isin(['천안', '아산','천안아산'])]"
      ],
      "metadata": {
        "id": "jwz0Md94C_ea"
      },
      "execution_count": null,
      "outputs": []
    },
    {
      "cell_type": "code",
      "source": [
        "new_column_names = ['역명', '일평균승차', '일평균하차', 'KTX여부', 'KTX운행횟수', '새마을,itx,지하철 일평균 운행횟수']\n",
        "data.columns = new_column_names"
      ],
      "metadata": {
        "id": "T8KXXbi5DCAR"
      },
      "execution_count": null,
      "outputs": []
    },
    {
      "cell_type": "code",
      "source": [
        "cols = ['일평균승차', '일평균하차', 'KTX여부', 'KTX운행횟수', '새마을,itx,지하철 일평균 운행횟수']\n",
        "\n",
        "# 정규화\n",
        "scaler = MinMaxScaler()\n",
        "data[cols] = scaler.fit_transform(data[cols])"
      ],
      "metadata": {
        "id": "QCWOkHDhDCUX"
      },
      "execution_count": null,
      "outputs": []
    },
    {
      "cell_type": "code",
      "source": [
        "# 쌍대비교표\n",
        "pairwise_matrix = np.array([\n",
        "    [1, 2, 5, 6, 7],\n",
        "    [1/2, 1, 5, 6, 7],\n",
        "    [1/5, 1/5, 1, 3, 4],\n",
        "    [1/6, 1/6, 1/3, 1, 2],\n",
        "    [1/7, 1/7, 1/4, 1/2, 1]\n",
        "])\n",
        "row_sums = pairwise_matrix.sum(axis=1)\n",
        "\n",
        "# 가중치 벡터 계산\n",
        "weights = row_sums / row_sums.sum()"
      ],
      "metadata": {
        "id": "iHLhcde2DH0n"
      },
      "execution_count": null,
      "outputs": []
    },
    {
      "cell_type": "markdown",
      "source": [
        "### 수요량 계산"
      ],
      "metadata": {
        "id": "twerXBqKDILh"
      }
    },
    {
      "cell_type": "code",
      "source": [
        "data['일평균승차'] = data['일평균승차'] * weights[0]\n",
        "data['일평균하차'] = data['일평균하차'] * weights[1]\n",
        "data['KTX여부'] = data['KTX여부'] * weights[2]\n",
        "data['KTX운행횟수'] = data['KTX운행횟수'] * weights[3]\n",
        "data['새마을,itx,지하철 일평균 운행횟수'] = data['새마을,itx,지하철 일평균 운행횟수'] * weights[4]"
      ],
      "metadata": {
        "id": "adfH2G2_DJBN"
      },
      "execution_count": null,
      "outputs": []
    },
    {
      "cell_type": "code",
      "source": [
        "df = data[['일평균승차', '일평균하차', 'KTX여부', 'KTX운행횟수', '새마을,itx,지하철 일평균 운행횟수']]"
      ],
      "metadata": {
        "id": "SZNvPLcuDKnI"
      },
      "execution_count": null,
      "outputs": []
    },
    {
      "cell_type": "code",
      "source": [
        "df.values.sum()"
      ],
      "metadata": {
        "id": "bYzFIlruDLpn"
      },
      "execution_count": null,
      "outputs": []
    }
  ]
}